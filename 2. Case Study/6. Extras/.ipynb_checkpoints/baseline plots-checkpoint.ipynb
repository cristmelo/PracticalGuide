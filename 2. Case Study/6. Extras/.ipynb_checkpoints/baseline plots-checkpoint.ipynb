{
 "cells": [
  {
   "cell_type": "markdown",
   "metadata": {},
   "source": [
    "%run auxiliary.ipynb"
   ]
  },
  {
   "cell_type": "code",
   "execution_count": 1,
   "metadata": {},
   "outputs": [],
   "source": [
    "import pandas as pd\n",
    "import numpy as np\n",
    "import warnings\n",
    "import pickle\n",
    "import matplotlib.pyplot as plt"
   ]
  },
  {
   "cell_type": "code",
   "execution_count": 2,
   "metadata": {},
   "outputs": [],
   "source": [
    "df = pd.read_csv('plot2.csv')"
   ]
  },
  {
   "cell_type": "code",
   "execution_count": 3,
   "metadata": {},
   "outputs": [
    {
     "data": {
      "text/html": [
       "<div>\n",
       "<style scoped>\n",
       "    .dataframe tbody tr th:only-of-type {\n",
       "        vertical-align: middle;\n",
       "    }\n",
       "\n",
       "    .dataframe tbody tr th {\n",
       "        vertical-align: top;\n",
       "    }\n",
       "\n",
       "    .dataframe thead th {\n",
       "        text-align: right;\n",
       "    }\n",
       "</style>\n",
       "<table border=\"1\" class=\"dataframe\">\n",
       "  <thead>\n",
       "    <tr style=\"text-align: right;\">\n",
       "      <th></th>\n",
       "      <th>Balancing</th>\n",
       "      <th>W/ Outliers and W/O FS</th>\n",
       "      <th>W/O Outliers and W/O FS</th>\n",
       "      <th>W/ Outliers and W/ FS</th>\n",
       "      <th>W/O Outliers and W/ FS</th>\n",
       "    </tr>\n",
       "  </thead>\n",
       "  <tbody>\n",
       "    <tr>\n",
       "      <th>0</th>\n",
       "      <td>Imbalanced Data Set</td>\n",
       "      <td>0.527</td>\n",
       "      <td>0.597</td>\n",
       "      <td>0.521</td>\n",
       "      <td>0.599</td>\n",
       "    </tr>\n",
       "    <tr>\n",
       "      <th>1</th>\n",
       "      <td>Over-sampled</td>\n",
       "      <td>0.673</td>\n",
       "      <td>0.703</td>\n",
       "      <td>0.671</td>\n",
       "      <td>0.690</td>\n",
       "    </tr>\n",
       "    <tr>\n",
       "      <th>2</th>\n",
       "      <td>Under-sampled</td>\n",
       "      <td>0.669</td>\n",
       "      <td>0.668</td>\n",
       "      <td>0.674</td>\n",
       "      <td>0.680</td>\n",
       "    </tr>\n",
       "  </tbody>\n",
       "</table>\n",
       "</div>"
      ],
      "text/plain": [
       "             Balancing  W/ Outliers and W/O FS  W/O Outliers and W/O FS  \\\n",
       "0  Imbalanced Data Set                   0.527                    0.597   \n",
       "1         Over-sampled                   0.673                    0.703   \n",
       "2        Under-sampled                   0.669                    0.668   \n",
       "\n",
       "   W/ Outliers and W/ FS  W/O Outliers and W/ FS  \n",
       "0                  0.521                   0.599  \n",
       "1                  0.671                   0.690  \n",
       "2                  0.674                   0.680  "
      ]
     },
     "execution_count": 3,
     "metadata": {},
     "output_type": "execute_result"
    }
   ],
   "source": [
    "df = df.rename(columns={'wo_wofs':'W/ Outliers and W/O FS', 'woo_wofs':'W/O Outliers and W/O FS',\n",
    "                        'wo_wfs':'W/ Outliers and W/ FS', 'woo_wfs':'W/O Outliers and W/ FS'})\n",
    "df"
   ]
  },
  {
   "cell_type": "code",
   "execution_count": 5,
   "metadata": {},
   "outputs": [],
   "source": [
    "df.set_index('Balancing', inplace=True)"
   ]
  },
  {
   "cell_type": "code",
   "execution_count": 8,
   "metadata": {},
   "outputs": [
    {
     "data": {
      "text/plain": [
       "<Figure size 432x288 with 0 Axes>"
      ]
     },
     "metadata": {},
     "output_type": "display_data"
    },
    {
     "data": {
      "image/png": "[encoded data removed]",
      "text/plain": [
       "<Figure size 720x360 with 1 Axes>"
      ]
     },
     "metadata": {
      "needs_background": "light"
     },
     "output_type": "display_data"
    }
   ],
   "source": [
    "fig = plt.figure()\n",
    "ax = df.plot(kind='bar', colormap='copper', rot=0, figsize = (10,5))\n",
    "plt.ylim(0,1)\n",
    "plt.axhline(y=0.639 , c='b', linestyle='--', label='Mean')\n",
    "plt.axhline(y=0.521 , c='r', linestyle='--', label='Min')\n",
    "plt.axhline(y=0.703 , c='g', linestyle='--', label='Max')\n",
    "plt.legend(loc=1, ncol=3)\n",
    "plt.xlabel('')\n",
    "for p in ax.patches:\n",
    "    if p.get_height() == 0.599:\n",
    "        ax.annotate('ADABOOST', (p.get_x() * 0.35, p.get_height() * 1.005))\n",
    "    elif p.get_height() == 0.703:\n",
    "        ax.annotate('LR+\\nSMOTE', (p.get_x() * 1.06, p.get_height() * 1.01), horizontalalignment='center')\n",
    "    elif p.get_height() == 0.68:\n",
    "        ax.annotate('GB+\\nRUS', (p.get_x() * 1.03, p.get_height() * 1.04), horizontalalignment='center')\n",
    "plt.plot()\n",
    "plt.savefig('baselines_barchart.png', dpi=300)\n",
    "plt.show()"
   ]
  }
 ],
 "metadata": {
  "kernelspec": {
   "display_name": "Python 3",
   "language": "python",
   "name": "python3"
  },
  "language_info": {
   "codemirror_mode": {
    "name": "ipython",
    "version": 3
   },
   "file_extension": ".py",
   "mimetype": "text/x-python",
   "name": "python",
   "nbconvert_exporter": "python",
   "pygments_lexer": "ipython3",
   "version": "3.7.1"
  }
 },
 "nbformat": 4,
 "nbformat_minor": 2
}
